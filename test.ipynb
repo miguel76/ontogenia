{
 "cells": [
  {
   "cell_type": "code",
   "execution_count": 1,
   "metadata": {},
   "outputs": [],
   "source": [
    "from ontology_cqs import load_ontology_cqs, split_cqs\n",
    "from jinja2 import Environment, PackageLoader, select_autoescape, FileSystemLoader"
   ]
  },
  {
   "cell_type": "code",
   "execution_count": 2,
   "metadata": {},
   "outputs": [],
   "source": [
    "ontology_cqs_by_name = load_ontology_cqs('CQstoOWL/Data/CQs only Dataset.csv')"
   ]
  },
  {
   "cell_type": "code",
   "execution_count": 3,
   "metadata": {},
   "outputs": [
    {
     "data": {
      "text/plain": [
       "['Which animal eats which other animal?',\n",
       " 'Is [this animal] a herbivore?',\n",
       " 'Which plant parts does [this omnivorous or herbivorourus animal] eat?',\n",
       " 'Does a lion eat plants or plant parts?',\n",
       " 'Is there an animal that does not drink water?',\n",
       " 'Which plants eat animals?',\n",
       " 'Which animals eat [these animals]?',\n",
       " 'Which animals are the predators of [these animals]?',\n",
       " 'Are there [these animals] in [this country]?',\n",
       " 'Which country do I have to visit to see [these animals]?',\n",
       " 'In what kind of habitat do [this animal] live?',\n",
       " 'Which animals are endangered?',\n",
       " 'Do [this animal] and [this animal] live in the same habitat?',\n",
       " 'Are there animals that are carnivore but still eat some plants or parts of plants?']"
      ]
     },
     "execution_count": 3,
     "metadata": {},
     "output_type": "execute_result"
    }
   ],
   "source": [
    "ontology_cqs_by_name['Animal Wildlife Ontology'].cqs"
   ]
  },
  {
   "cell_type": "code",
   "execution_count": 4,
   "metadata": {},
   "outputs": [],
   "source": [
    "prompts_env = Environment(\n",
    "    loader=FileSystemLoader(\"prompts\"),\n",
    "    autoescape=select_autoescape()\n",
    ")"
   ]
  },
  {
   "cell_type": "code",
   "execution_count": 5,
   "metadata": {},
   "outputs": [],
   "source": [
    "cqs_to_owl_template = prompts_env.get_template('cqs_to_owl.txt')"
   ]
  },
  {
   "cell_type": "code",
   "execution_count": 6,
   "metadata": {},
   "outputs": [
    {
     "name": "stdout",
     "output_type": "stream",
     "text": [
      "Design an OWL ontology called Animal Wildlife Ontology.\n",
      "The ontology must comply with the following competency questions:\n",
      "\n",
      "CQ 1. Which animal eats which other animal?\n",
      "CQ 2. Is [this animal] a herbivore?\n",
      "CQ 3. Which plant parts does [this omnivorous or herbivorourus animal] eat?\n",
      "CQ 4. Does a lion eat plants or plant parts?\n",
      "CQ 5. Is there an animal that does not drink water?\n",
      "CQ 6. Which plants eat animals?\n",
      "CQ 7. Which animals eat [these animals]?\n",
      "CQ 8. Which animals are the predators of [these animals]?\n",
      "CQ 9. Are there [these animals] in [this country]?\n",
      "CQ 10. Which country do I have to visit to see [these animals]?\n",
      "CQ 11. In what kind of habitat do [this animal] live?\n",
      "CQ 12. Which animals are endangered?\n",
      "CQ 13. Do [this animal] and [this animal] live in the same habitat?\n",
      "CQ 14. Are there animals that are carnivore but still eat some plants or parts of plants?\n",
      "\n",
      "Provide direclty the detailed OWL specification in RDF Turtle format and a SPARQL query corresponding to each competency question.\n",
      "\n"
     ]
    }
   ],
   "source": [
    "print(cqs_to_owl_template.render(ontology_cqs_by_name['Animal Wildlife Ontology'].__dict__))"
   ]
  },
  {
   "cell_type": "code",
   "execution_count": 7,
   "metadata": {},
   "outputs": [],
   "source": [
    "coverage_template = prompts_env.get_template('coverage.txt')"
   ]
  },
  {
   "cell_type": "code",
   "execution_count": 8,
   "metadata": {},
   "outputs": [],
   "source": [
    "awo_each_cq = split_cqs(ontology_cqs_by_name['Animal Wildlife Ontology'])"
   ]
  },
  {
   "cell_type": "markdown",
   "metadata": {},
   "source": []
  },
  {
   "cell_type": "code",
   "execution_count": 9,
   "metadata": {},
   "outputs": [
    {
     "name": "stdout",
     "output_type": "stream",
     "text": [
      "Design an OWL ontology called Animal Wildlife Ontology.\n",
      "The ontology must comply with the following competency question:\n",
      "\n",
      "Which animal eats which other animal?\n",
      "\n",
      "Provide direclty the detailed OWL specification in RDF Turtle format and a SPARQL query corresponding to the competency question.\n",
      "\n"
     ]
    }
   ],
   "source": [
    "print(cqs_to_owl_template.render(awo_each_cq[0].__dict__))"
   ]
  },
  {
   "cell_type": "code",
   "execution_count": 10,
   "metadata": {},
   "outputs": [
    {
     "data": {
      "text/plain": [
       "['Which animal eats which other animal?']"
      ]
     },
     "execution_count": 10,
     "metadata": {},
     "output_type": "execute_result"
    }
   ],
   "source": [
    "awo_each_cq[0].cqs"
   ]
  }
 ],
 "metadata": {
  "kernelspec": {
   "display_name": "venv",
   "language": "python",
   "name": "python3"
  },
  "language_info": {
   "codemirror_mode": {
    "name": "ipython",
    "version": 3
   },
   "file_extension": ".py",
   "mimetype": "text/x-python",
   "name": "python",
   "nbconvert_exporter": "python",
   "pygments_lexer": "ipython3",
   "version": "3.11.5"
  }
 },
 "nbformat": 4,
 "nbformat_minor": 2
}
